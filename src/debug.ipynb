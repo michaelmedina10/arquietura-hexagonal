{
 "cells": [
  {
   "cell_type": "code",
   "execution_count": 4,
   "metadata": {},
   "outputs": [],
   "source": [
    "import json\n",
    "from domain.core.models import UserModel\n",
    "\n",
    "def find(filter_query: dict) -> list[UserModel]:\n",
    "    with open(\"domain/infra/usuarios.json\", \"r\") as file:\n",
    "        users = json.load(file)\n",
    "\n",
    "    users_filtrados = []\n",
    "    for user in users:\n",
    "        # Verifica se todos os critérios de filtro são atendidos\n",
    "        if all(user[key] == value for key, value in filter_query.items()):\n",
    "            users_filtrados.append(user)\n",
    "\n",
    "    return users_filtrados"
   ]
  },
  {
   "cell_type": "code",
   "execution_count": 5,
   "metadata": {},
   "outputs": [
    {
     "data": {
      "text/plain": [
       "[{'nome': 'Pedro', 'sobrenome': 'Alves', 'telefone': '12345678'},\n",
       " {'nome': 'Pedro', 'sobrenome': 'Cardoso', 'telefone': '12345678'}]"
      ]
     },
     "execution_count": 5,
     "metadata": {},
     "output_type": "execute_result"
    }
   ],
   "source": [
    "users = find({\"nome\": \"Pedro\"})\n",
    "users"
   ]
  },
  {
   "cell_type": "code",
   "execution_count": 8,
   "metadata": {},
   "outputs": [],
   "source": [
    "def insert_one(user: UserModel) -> UserModel | dict:\n",
    "    try:\n",
    "        with open(\"domain/infra/usuarios.json\", 'r') as file:\n",
    "            users = json.load(file)\n",
    "    except FileNotFoundError:\n",
    "        # Se o arquivo não existir, criar uma lista vazia\n",
    "        users = []\n",
    "\n",
    "    # Adicionar o novo usuário à lista de usuários\n",
    "    users.append(user)\n",
    "\n",
    "    try:\n",
    "        with open(\"domain/infra/usuarios.json\", 'w') as arquivo:\n",
    "            json.dump(users, arquivo, indent=4)\n",
    "        return user\n",
    "    except Exception as e:\n",
    "        print(f\"Erro ao adicionar usuário: {e}\")\n",
    "        return {}\n"
   ]
  },
  {
   "cell_type": "code",
   "execution_count": 9,
   "metadata": {},
   "outputs": [
    {
     "data": {
      "text/plain": [
       "{'nome': 'maria', 'sobrenome': 'joao', 'telefone': '12345678'}"
      ]
     },
     "execution_count": 9,
     "metadata": {},
     "output_type": "execute_result"
    }
   ],
   "source": [
    "user = {\"nome\": \"maria\", \"sobrenome\": \"joao\", \"telefone\": \"12345678\"}\n",
    "user_inserted = insert_one(user)\n",
    "user_inserted"
   ]
  },
  {
   "cell_type": "code",
   "execution_count": null,
   "metadata": {},
   "outputs": [],
   "source": []
  }
 ],
 "metadata": {
  "kernelspec": {
   "display_name": ".venv",
   "language": "python",
   "name": "python3"
  },
  "language_info": {
   "codemirror_mode": {
    "name": "ipython",
    "version": 3
   },
   "file_extension": ".py",
   "mimetype": "text/x-python",
   "name": "python",
   "nbconvert_exporter": "python",
   "pygments_lexer": "ipython3",
   "version": "3.11.4"
  }
 },
 "nbformat": 4,
 "nbformat_minor": 2
}
